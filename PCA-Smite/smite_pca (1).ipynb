{
  "nbformat": 4,
  "nbformat_minor": 0,
  "metadata": {
    "colab": {
      "name": "smite_pca",
      "provenance": [],
      "collapsed_sections": []
    },
    "kernelspec": {
      "name": "python3",
      "display_name": "Python 3"
    }
  },
  "cells": [
    {
      "cell_type": "code",
      "metadata": {
        "id": "eYspeS4VP0F-"
      },
      "source": [
        "import numpy as np\n",
        "import pandas as pd\n",
        "import matplotlib.pyplot as plt\n",
        "from google.colab import files\n",
        "from sklearn.decomposition import PCA\n",
        "import math\n",
        "import seaborn as sns"
      ],
      "execution_count": null,
      "outputs": []
    },
    {
      "cell_type": "code",
      "metadata": {
        "id": "Qw5fDweAQIk0",
        "colab": {
          "resources": {
            "http://localhost:8080/nbextensions/google.colab/files.js": {
              "data": "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",
              "ok": true,
              "headers": [
                [
                  "content-type",
                  "application/javascript"
                ]
              ],
              "status": 200,
              "status_text": ""
            }
          },
          "base_uri": "https://localhost:8080/",
          "height": 72
        },
        "outputId": "ccb90578-5a3e-4bbe-cc50-c28edaa6a40e"
      },
      "source": [
        "upload = files.upload()"
      ],
      "execution_count": null,
      "outputs": [
        {
          "output_type": "display_data",
          "data": {
            "text/html": [
              "\n",
              "     <input type=\"file\" id=\"files-8abd619e-c9fc-4f1c-b27a-98ee69206a74\" name=\"files[]\" multiple disabled\n",
              "        style=\"border:none\" />\n",
              "     <output id=\"result-8abd619e-c9fc-4f1c-b27a-98ee69206a74\">\n",
              "      Upload widget is only available when the cell has been executed in the\n",
              "      current browser session. Please rerun this cell to enable.\n",
              "      </output>\n",
              "      <script src=\"/nbextensions/google.colab/files.js\"></script> "
            ],
            "text/plain": [
              "<IPython.core.display.HTML object>"
            ]
          },
          "metadata": {
            "tags": []
          }
        },
        {
          "output_type": "stream",
          "text": [
            "Saving smite_pca.xlsx to smite_pca.xlsx\n"
          ],
          "name": "stdout"
        }
      ]
    },
    {
      "cell_type": "code",
      "metadata": {
        "id": "hgGikvGNPYfj"
      },
      "source": [
        "### Para que las gráficas se vean en 16:9\r\n",
        "plt.rcParams['figure.figsize'] = (16,9)\r\n",
        "plt.style.use('ggplot')"
      ],
      "execution_count": null,
      "outputs": []
    },
    {
      "cell_type": "code",
      "metadata": {
        "id": "bLFacZ4LQjHu",
        "colab": {
          "base_uri": "https://localhost:8080/",
          "height": 359
        },
        "outputId": "312c92a7-21f3-40a2-954e-b36368c7167b"
      },
      "source": [
        "smite = pd.read_excel('smite_pca.xlsx')\n",
        "smite.head(10)"
      ],
      "execution_count": null,
      "outputs": [
        {
          "output_type": "execute_result",
          "data": {
            "text/html": [
              "<div>\n",
              "<style scoped>\n",
              "    .dataframe tbody tr th:only-of-type {\n",
              "        vertical-align: middle;\n",
              "    }\n",
              "\n",
              "    .dataframe tbody tr th {\n",
              "        vertical-align: top;\n",
              "    }\n",
              "\n",
              "    .dataframe thead th {\n",
              "        text-align: right;\n",
              "    }\n",
              "</style>\n",
              "<table border=\"1\" class=\"dataframe\">\n",
              "  <thead>\n",
              "    <tr style=\"text-align: right;\">\n",
              "      <th></th>\n",
              "      <th>God</th>\n",
              "      <th>Class</th>\n",
              "      <th>HP</th>\n",
              "      <th>Mana</th>\n",
              "      <th>Speed</th>\n",
              "      <th>Range</th>\n",
              "      <th>Attack/Sec</th>\n",
              "      <th>Power</th>\n",
              "      <th>Physical Protection</th>\n",
              "      <th>Magical Protection</th>\n",
              "      <th>HP5</th>\n",
              "      <th>MP5</th>\n",
              "      <th>Power Type</th>\n",
              "    </tr>\n",
              "  </thead>\n",
              "  <tbody>\n",
              "    <tr>\n",
              "      <th>0</th>\n",
              "      <td>Tiamat</td>\n",
              "      <td>Mage</td>\n",
              "      <td>477</td>\n",
              "      <td>355</td>\n",
              "      <td>360</td>\n",
              "      <td>55.0</td>\n",
              "      <td>0.89</td>\n",
              "      <td>36</td>\n",
              "      <td>16</td>\n",
              "      <td>31</td>\n",
              "      <td>7.50</td>\n",
              "      <td>5.44</td>\n",
              "      <td>Magical</td>\n",
              "    </tr>\n",
              "    <tr>\n",
              "      <th>1</th>\n",
              "      <td>Achilles</td>\n",
              "      <td>Warrior</td>\n",
              "      <td>560</td>\n",
              "      <td>240</td>\n",
              "      <td>370</td>\n",
              "      <td>16.0</td>\n",
              "      <td>0.96</td>\n",
              "      <td>40</td>\n",
              "      <td>20</td>\n",
              "      <td>31</td>\n",
              "      <td>9.75</td>\n",
              "      <td>5.09</td>\n",
              "      <td>Physical</td>\n",
              "    </tr>\n",
              "    <tr>\n",
              "      <th>2</th>\n",
              "      <td>Agni</td>\n",
              "      <td>Mage</td>\n",
              "      <td>431</td>\n",
              "      <td>300</td>\n",
              "      <td>355</td>\n",
              "      <td>55.0</td>\n",
              "      <td>1.01</td>\n",
              "      <td>36</td>\n",
              "      <td>14</td>\n",
              "      <td>31</td>\n",
              "      <td>7.47</td>\n",
              "      <td>5.07</td>\n",
              "      <td>Magical</td>\n",
              "    </tr>\n",
              "    <tr>\n",
              "      <th>3</th>\n",
              "      <td>Ah Muzen Cab</td>\n",
              "      <td>Hunter</td>\n",
              "      <td>523</td>\n",
              "      <td>270</td>\n",
              "      <td>365</td>\n",
              "      <td>55.0</td>\n",
              "      <td>0.97</td>\n",
              "      <td>40</td>\n",
              "      <td>15</td>\n",
              "      <td>31</td>\n",
              "      <td>7.71</td>\n",
              "      <td>4.78</td>\n",
              "      <td>Physical</td>\n",
              "    </tr>\n",
              "    <tr>\n",
              "      <th>4</th>\n",
              "      <td>Ah Puch</td>\n",
              "      <td>Mage</td>\n",
              "      <td>475</td>\n",
              "      <td>320</td>\n",
              "      <td>365</td>\n",
              "      <td>55.0</td>\n",
              "      <td>0.87</td>\n",
              "      <td>37</td>\n",
              "      <td>12</td>\n",
              "      <td>31</td>\n",
              "      <td>6.45</td>\n",
              "      <td>5.32</td>\n",
              "      <td>Magical</td>\n",
              "    </tr>\n",
              "    <tr>\n",
              "      <th>5</th>\n",
              "      <td>Amaterasu</td>\n",
              "      <td>Warrior</td>\n",
              "      <td>565</td>\n",
              "      <td>255</td>\n",
              "      <td>375</td>\n",
              "      <td>12.0</td>\n",
              "      <td>1.01</td>\n",
              "      <td>41</td>\n",
              "      <td>21</td>\n",
              "      <td>31</td>\n",
              "      <td>8.80</td>\n",
              "      <td>5.20</td>\n",
              "      <td>Physical</td>\n",
              "    </tr>\n",
              "    <tr>\n",
              "      <th>6</th>\n",
              "      <td>Anhur</td>\n",
              "      <td>Hunter</td>\n",
              "      <td>538</td>\n",
              "      <td>255</td>\n",
              "      <td>365</td>\n",
              "      <td>55.0</td>\n",
              "      <td>0.92</td>\n",
              "      <td>43</td>\n",
              "      <td>14</td>\n",
              "      <td>31</td>\n",
              "      <td>8.69</td>\n",
              "      <td>4.82</td>\n",
              "      <td>Physical</td>\n",
              "    </tr>\n",
              "    <tr>\n",
              "      <th>7</th>\n",
              "      <td>Anubis</td>\n",
              "      <td>Mage</td>\n",
              "      <td>450</td>\n",
              "      <td>338</td>\n",
              "      <td>360</td>\n",
              "      <td>55.0</td>\n",
              "      <td>0.87</td>\n",
              "      <td>37</td>\n",
              "      <td>13</td>\n",
              "      <td>31</td>\n",
              "      <td>7.45</td>\n",
              "      <td>5.16</td>\n",
              "      <td>Magical</td>\n",
              "    </tr>\n",
              "    <tr>\n",
              "      <th>8</th>\n",
              "      <td>Ao Kuang</td>\n",
              "      <td>Mage</td>\n",
              "      <td>482</td>\n",
              "      <td>278</td>\n",
              "      <td>375</td>\n",
              "      <td>12.0</td>\n",
              "      <td>1.02</td>\n",
              "      <td>37</td>\n",
              "      <td>15</td>\n",
              "      <td>31</td>\n",
              "      <td>10.70</td>\n",
              "      <td>5.21</td>\n",
              "      <td>Magical</td>\n",
              "    </tr>\n",
              "    <tr>\n",
              "      <th>9</th>\n",
              "      <td>Aphrodite</td>\n",
              "      <td>Mage</td>\n",
              "      <td>448</td>\n",
              "      <td>283</td>\n",
              "      <td>355</td>\n",
              "      <td>55.0</td>\n",
              "      <td>0.88</td>\n",
              "      <td>33</td>\n",
              "      <td>12</td>\n",
              "      <td>31</td>\n",
              "      <td>6.45</td>\n",
              "      <td>5.21</td>\n",
              "      <td>Magical</td>\n",
              "    </tr>\n",
              "  </tbody>\n",
              "</table>\n",
              "</div>"
            ],
            "text/plain": [
              "            God    Class   HP  Mana  ...  Magical Protection    HP5   MP5  Power Type\n",
              "0        Tiamat     Mage  477   355  ...                  31   7.50  5.44     Magical\n",
              "1      Achilles  Warrior  560   240  ...                  31   9.75  5.09    Physical\n",
              "2          Agni     Mage  431   300  ...                  31   7.47  5.07     Magical\n",
              "3  Ah Muzen Cab   Hunter  523   270  ...                  31   7.71  4.78    Physical\n",
              "4       Ah Puch     Mage  475   320  ...                  31   6.45  5.32     Magical\n",
              "5     Amaterasu  Warrior  565   255  ...                  31   8.80  5.20    Physical\n",
              "6         Anhur   Hunter  538   255  ...                  31   8.69  4.82    Physical\n",
              "7        Anubis     Mage  450   338  ...                  31   7.45  5.16     Magical\n",
              "8      Ao Kuang     Mage  482   278  ...                  31  10.70  5.21     Magical\n",
              "9     Aphrodite     Mage  448   283  ...                  31   6.45  5.21     Magical\n",
              "\n",
              "[10 rows x 13 columns]"
            ]
          },
          "metadata": {
            "tags": []
          },
          "execution_count": 4
        }
      ]
    },
    {
      "cell_type": "code",
      "metadata": {
        "id": "TW28VK2_RDvz",
        "colab": {
          "base_uri": "https://localhost:8080/",
          "height": 359
        },
        "outputId": "d1f9c874-103d-4794-fd7c-f39df4c283e3"
      },
      "source": [
        "### Seleccionamos las características de interés\n",
        "df = smite[['HP','Mana','Speed','Range','Attack/Sec','Power','Physical Protection','Magical Protection','HP5','MP5']]\n",
        "df.head(10)"
      ],
      "execution_count": null,
      "outputs": [
        {
          "output_type": "execute_result",
          "data": {
            "text/html": [
              "<div>\n",
              "<style scoped>\n",
              "    .dataframe tbody tr th:only-of-type {\n",
              "        vertical-align: middle;\n",
              "    }\n",
              "\n",
              "    .dataframe tbody tr th {\n",
              "        vertical-align: top;\n",
              "    }\n",
              "\n",
              "    .dataframe thead th {\n",
              "        text-align: right;\n",
              "    }\n",
              "</style>\n",
              "<table border=\"1\" class=\"dataframe\">\n",
              "  <thead>\n",
              "    <tr style=\"text-align: right;\">\n",
              "      <th></th>\n",
              "      <th>HP</th>\n",
              "      <th>Mana</th>\n",
              "      <th>Speed</th>\n",
              "      <th>Range</th>\n",
              "      <th>Attack/Sec</th>\n",
              "      <th>Power</th>\n",
              "      <th>Physical Protection</th>\n",
              "      <th>Magical Protection</th>\n",
              "      <th>HP5</th>\n",
              "      <th>MP5</th>\n",
              "    </tr>\n",
              "  </thead>\n",
              "  <tbody>\n",
              "    <tr>\n",
              "      <th>0</th>\n",
              "      <td>477</td>\n",
              "      <td>355</td>\n",
              "      <td>360</td>\n",
              "      <td>55.0</td>\n",
              "      <td>0.89</td>\n",
              "      <td>36</td>\n",
              "      <td>16</td>\n",
              "      <td>31</td>\n",
              "      <td>7.50</td>\n",
              "      <td>5.44</td>\n",
              "    </tr>\n",
              "    <tr>\n",
              "      <th>1</th>\n",
              "      <td>560</td>\n",
              "      <td>240</td>\n",
              "      <td>370</td>\n",
              "      <td>16.0</td>\n",
              "      <td>0.96</td>\n",
              "      <td>40</td>\n",
              "      <td>20</td>\n",
              "      <td>31</td>\n",
              "      <td>9.75</td>\n",
              "      <td>5.09</td>\n",
              "    </tr>\n",
              "    <tr>\n",
              "      <th>2</th>\n",
              "      <td>431</td>\n",
              "      <td>300</td>\n",
              "      <td>355</td>\n",
              "      <td>55.0</td>\n",
              "      <td>1.01</td>\n",
              "      <td>36</td>\n",
              "      <td>14</td>\n",
              "      <td>31</td>\n",
              "      <td>7.47</td>\n",
              "      <td>5.07</td>\n",
              "    </tr>\n",
              "    <tr>\n",
              "      <th>3</th>\n",
              "      <td>523</td>\n",
              "      <td>270</td>\n",
              "      <td>365</td>\n",
              "      <td>55.0</td>\n",
              "      <td>0.97</td>\n",
              "      <td>40</td>\n",
              "      <td>15</td>\n",
              "      <td>31</td>\n",
              "      <td>7.71</td>\n",
              "      <td>4.78</td>\n",
              "    </tr>\n",
              "    <tr>\n",
              "      <th>4</th>\n",
              "      <td>475</td>\n",
              "      <td>320</td>\n",
              "      <td>365</td>\n",
              "      <td>55.0</td>\n",
              "      <td>0.87</td>\n",
              "      <td>37</td>\n",
              "      <td>12</td>\n",
              "      <td>31</td>\n",
              "      <td>6.45</td>\n",
              "      <td>5.32</td>\n",
              "    </tr>\n",
              "    <tr>\n",
              "      <th>5</th>\n",
              "      <td>565</td>\n",
              "      <td>255</td>\n",
              "      <td>375</td>\n",
              "      <td>12.0</td>\n",
              "      <td>1.01</td>\n",
              "      <td>41</td>\n",
              "      <td>21</td>\n",
              "      <td>31</td>\n",
              "      <td>8.80</td>\n",
              "      <td>5.20</td>\n",
              "    </tr>\n",
              "    <tr>\n",
              "      <th>6</th>\n",
              "      <td>538</td>\n",
              "      <td>255</td>\n",
              "      <td>365</td>\n",
              "      <td>55.0</td>\n",
              "      <td>0.92</td>\n",
              "      <td>43</td>\n",
              "      <td>14</td>\n",
              "      <td>31</td>\n",
              "      <td>8.69</td>\n",
              "      <td>4.82</td>\n",
              "    </tr>\n",
              "    <tr>\n",
              "      <th>7</th>\n",
              "      <td>450</td>\n",
              "      <td>338</td>\n",
              "      <td>360</td>\n",
              "      <td>55.0</td>\n",
              "      <td>0.87</td>\n",
              "      <td>37</td>\n",
              "      <td>13</td>\n",
              "      <td>31</td>\n",
              "      <td>7.45</td>\n",
              "      <td>5.16</td>\n",
              "    </tr>\n",
              "    <tr>\n",
              "      <th>8</th>\n",
              "      <td>482</td>\n",
              "      <td>278</td>\n",
              "      <td>375</td>\n",
              "      <td>12.0</td>\n",
              "      <td>1.02</td>\n",
              "      <td>37</td>\n",
              "      <td>15</td>\n",
              "      <td>31</td>\n",
              "      <td>10.70</td>\n",
              "      <td>5.21</td>\n",
              "    </tr>\n",
              "    <tr>\n",
              "      <th>9</th>\n",
              "      <td>448</td>\n",
              "      <td>283</td>\n",
              "      <td>355</td>\n",
              "      <td>55.0</td>\n",
              "      <td>0.88</td>\n",
              "      <td>33</td>\n",
              "      <td>12</td>\n",
              "      <td>31</td>\n",
              "      <td>6.45</td>\n",
              "      <td>5.21</td>\n",
              "    </tr>\n",
              "  </tbody>\n",
              "</table>\n",
              "</div>"
            ],
            "text/plain": [
              "    HP  Mana  Speed  ...  Magical Protection    HP5   MP5\n",
              "0  477   355    360  ...                  31   7.50  5.44\n",
              "1  560   240    370  ...                  31   9.75  5.09\n",
              "2  431   300    355  ...                  31   7.47  5.07\n",
              "3  523   270    365  ...                  31   7.71  4.78\n",
              "4  475   320    365  ...                  31   6.45  5.32\n",
              "5  565   255    375  ...                  31   8.80  5.20\n",
              "6  538   255    365  ...                  31   8.69  4.82\n",
              "7  450   338    360  ...                  31   7.45  5.16\n",
              "8  482   278    375  ...                  31  10.70  5.21\n",
              "9  448   283    355  ...                  31   6.45  5.21\n",
              "\n",
              "[10 rows x 10 columns]"
            ]
          },
          "metadata": {
            "tags": []
          },
          "execution_count": 5
        }
      ]
    },
    {
      "cell_type": "code",
      "metadata": {
        "colab": {
          "base_uri": "https://localhost:8080/",
          "height": 297
        },
        "id": "7NrleSODWNFA",
        "outputId": "9388141a-62b1-4daa-cb12-39b9d266166c"
      },
      "source": [
        "df.describe()"
      ],
      "execution_count": null,
      "outputs": [
        {
          "output_type": "execute_result",
          "data": {
            "text/html": [
              "<div>\n",
              "<style scoped>\n",
              "    .dataframe tbody tr th:only-of-type {\n",
              "        vertical-align: middle;\n",
              "    }\n",
              "\n",
              "    .dataframe tbody tr th {\n",
              "        vertical-align: top;\n",
              "    }\n",
              "\n",
              "    .dataframe thead th {\n",
              "        text-align: right;\n",
              "    }\n",
              "</style>\n",
              "<table border=\"1\" class=\"dataframe\">\n",
              "  <thead>\n",
              "    <tr style=\"text-align: right;\">\n",
              "      <th></th>\n",
              "      <th>HP</th>\n",
              "      <th>Mana</th>\n",
              "      <th>Speed</th>\n",
              "      <th>Range</th>\n",
              "      <th>Attack/Sec</th>\n",
              "      <th>Power</th>\n",
              "      <th>Physical Protection</th>\n",
              "      <th>Magical Protection</th>\n",
              "      <th>HP5</th>\n",
              "      <th>MP5</th>\n",
              "    </tr>\n",
              "  </thead>\n",
              "  <tbody>\n",
              "    <tr>\n",
              "      <th>count</th>\n",
              "      <td>113.000000</td>\n",
              "      <td>113.000000</td>\n",
              "      <td>113.000000</td>\n",
              "      <td>113.000000</td>\n",
              "      <td>113.000000</td>\n",
              "      <td>113.000000</td>\n",
              "      <td>113.000000</td>\n",
              "      <td>113.0</td>\n",
              "      <td>113.000000</td>\n",
              "      <td>113.000000</td>\n",
              "    </tr>\n",
              "    <tr>\n",
              "      <th>mean</th>\n",
              "      <td>524.964602</td>\n",
              "      <td>267.787611</td>\n",
              "      <td>366.902655</td>\n",
              "      <td>32.809735</td>\n",
              "      <td>0.976106</td>\n",
              "      <td>38.628319</td>\n",
              "      <td>17.230088</td>\n",
              "      <td>31.0</td>\n",
              "      <td>8.178584</td>\n",
              "      <td>4.894602</td>\n",
              "    </tr>\n",
              "    <tr>\n",
              "      <th>std</th>\n",
              "      <td>51.182958</td>\n",
              "      <td>47.350602</td>\n",
              "      <td>6.560113</td>\n",
              "      <td>21.256335</td>\n",
              "      <td>0.053124</td>\n",
              "      <td>2.679934</td>\n",
              "      <td>4.470157</td>\n",
              "      <td>0.0</td>\n",
              "      <td>1.297612</td>\n",
              "      <td>0.723081</td>\n",
              "    </tr>\n",
              "    <tr>\n",
              "      <th>min</th>\n",
              "      <td>431.000000</td>\n",
              "      <td>0.000000</td>\n",
              "      <td>355.000000</td>\n",
              "      <td>12.000000</td>\n",
              "      <td>0.860000</td>\n",
              "      <td>26.000000</td>\n",
              "      <td>11.000000</td>\n",
              "      <td>31.0</td>\n",
              "      <td>5.430000</td>\n",
              "      <td>0.000000</td>\n",
              "    </tr>\n",
              "    <tr>\n",
              "      <th>25%</th>\n",
              "      <td>475.000000</td>\n",
              "      <td>240.000000</td>\n",
              "      <td>360.000000</td>\n",
              "      <td>12.000000</td>\n",
              "      <td>0.960000</td>\n",
              "      <td>37.000000</td>\n",
              "      <td>14.000000</td>\n",
              "      <td>31.0</td>\n",
              "      <td>7.450000</td>\n",
              "      <td>4.780000</td>\n",
              "    </tr>\n",
              "    <tr>\n",
              "      <th>50%</th>\n",
              "      <td>533.000000</td>\n",
              "      <td>264.000000</td>\n",
              "      <td>365.000000</td>\n",
              "      <td>16.000000</td>\n",
              "      <td>1.010000</td>\n",
              "      <td>40.000000</td>\n",
              "      <td>16.000000</td>\n",
              "      <td>31.0</td>\n",
              "      <td>8.670000</td>\n",
              "      <td>5.000000</td>\n",
              "    </tr>\n",
              "    <tr>\n",
              "      <th>75%</th>\n",
              "      <td>568.000000</td>\n",
              "      <td>285.000000</td>\n",
              "      <td>372.000000</td>\n",
              "      <td>55.000000</td>\n",
              "      <td>1.010000</td>\n",
              "      <td>41.000000</td>\n",
              "      <td>21.000000</td>\n",
              "      <td>31.0</td>\n",
              "      <td>8.800000</td>\n",
              "      <td>5.200000</td>\n",
              "    </tr>\n",
              "    <tr>\n",
              "      <th>max</th>\n",
              "      <td>614.000000</td>\n",
              "      <td>408.000000</td>\n",
              "      <td>381.000000</td>\n",
              "      <td>58.000000</td>\n",
              "      <td>1.070000</td>\n",
              "      <td>43.000000</td>\n",
              "      <td>41.000000</td>\n",
              "      <td>31.0</td>\n",
              "      <td>10.800000</td>\n",
              "      <td>5.940000</td>\n",
              "    </tr>\n",
              "  </tbody>\n",
              "</table>\n",
              "</div>"
            ],
            "text/plain": [
              "               HP        Mana  ...         HP5         MP5\n",
              "count  113.000000  113.000000  ...  113.000000  113.000000\n",
              "mean   524.964602  267.787611  ...    8.178584    4.894602\n",
              "std     51.182958   47.350602  ...    1.297612    0.723081\n",
              "min    431.000000    0.000000  ...    5.430000    0.000000\n",
              "25%    475.000000  240.000000  ...    7.450000    4.780000\n",
              "50%    533.000000  264.000000  ...    8.670000    5.000000\n",
              "75%    568.000000  285.000000  ...    8.800000    5.200000\n",
              "max    614.000000  408.000000  ...   10.800000    5.940000\n",
              "\n",
              "[8 rows x 10 columns]"
            ]
          },
          "metadata": {
            "tags": []
          },
          "execution_count": 6
        }
      ]
    },
    {
      "cell_type": "code",
      "metadata": {
        "colab": {
          "base_uri": "https://localhost:8080/"
        },
        "id": "x4ni3TJRyXpj",
        "outputId": "4caa52b9-7080-4c64-adcb-5a431b87e6d3"
      },
      "source": [
        "pca = PCA(0.90)\r\n",
        "pca.fit(df)"
      ],
      "execution_count": null,
      "outputs": [
        {
          "output_type": "execute_result",
          "data": {
            "text/plain": [
              "PCA(copy=True, iterated_power='auto', n_components=0.9, random_state=None,\n",
              "    svd_solver='auto', tol=0.0, whiten=False)"
            ]
          },
          "metadata": {
            "tags": []
          },
          "execution_count": 7
        }
      ]
    },
    {
      "cell_type": "code",
      "metadata": {
        "id": "AAtih_2JTKBJ",
        "colab": {
          "base_uri": "https://localhost:8080/"
        },
        "outputId": "920a4338-5846-4d2f-b593-ef4c7b3def75"
      },
      "source": [
        "T = pca.transform(df)\r\n",
        "# Comprobamos que se haya hecho la reducción de las dimensiones\r\n",
        "print(df.shape) # Dimensiones del dataframe original\r\n",
        "print(T.shape) # Dimensiones del nuevo grupo de datos"
      ],
      "execution_count": null,
      "outputs": [
        {
          "output_type": "stream",
          "text": [
            "(113, 10)\n",
            "(113, 2)\n"
          ],
          "name": "stdout"
        }
      ]
    },
    {
      "cell_type": "markdown",
      "metadata": {
        "id": "2Jeac_S8zWMq"
      },
      "source": [
        "Vemos que se redujeron el número de columnas (dimensiones) de 10 a 2"
      ]
    },
    {
      "cell_type": "code",
      "metadata": {
        "id": "JtEHW5htTfq5",
        "colab": {
          "base_uri": "https://localhost:8080/"
        },
        "outputId": "4db0e008-924d-41d6-8d99-553412492afb"
      },
      "source": [
        "pca.explained_variance_ratio_"
      ],
      "execution_count": null,
      "outputs": [
        {
          "output_type": "execute_result",
          "data": {
            "text/plain": [
              "array([0.76517904, 0.16913828])"
            ]
          },
          "metadata": {
            "tags": []
          },
          "execution_count": 15
        }
      ]
    },
    {
      "cell_type": "markdown",
      "metadata": {
        "id": "fueVoh7MzjWi"
      },
      "source": [
        "Con dos componentes principales se logra un 93% de explicabilidad, es decir, que con estas dos dimensiones se puede observar las correlaciones mas fuertes entre las dimensiones"
      ]
    },
    {
      "cell_type": "markdown",
      "metadata": {
        "id": "fQZwVAXhUd9N"
      },
      "source": [
        "**Interpretando resultados**\n",
        "\n",
        "Se puede acceder a las correlaciones entre los componentes y las variables originales usando el método *components_* del objeto PCA() que ya tenemos"
      ]
    },
    {
      "cell_type": "code",
      "metadata": {
        "id": "6Agj_9jtTjB3",
        "colab": {
          "base_uri": "https://localhost:8080/",
          "height": 111
        },
        "outputId": "1f87f0ec-2cc5-4e07-c87f-458c651d3218"
      },
      "source": [
        "components = pd.DataFrame(pca.components_, columns= df.columns, index=[1, 2])\n",
        "# components = pd.DataFrame(pca.components_, columns= df.columns)\n",
        "components"
      ],
      "execution_count": null,
      "outputs": [
        {
          "output_type": "execute_result",
          "data": {
            "text/html": [
              "<div>\n",
              "<style scoped>\n",
              "    .dataframe tbody tr th:only-of-type {\n",
              "        vertical-align: middle;\n",
              "    }\n",
              "\n",
              "    .dataframe tbody tr th {\n",
              "        vertical-align: top;\n",
              "    }\n",
              "\n",
              "    .dataframe thead th {\n",
              "        text-align: right;\n",
              "    }\n",
              "</style>\n",
              "<table border=\"1\" class=\"dataframe\">\n",
              "  <thead>\n",
              "    <tr style=\"text-align: right;\">\n",
              "      <th></th>\n",
              "      <th>HP</th>\n",
              "      <th>Mana</th>\n",
              "      <th>Speed</th>\n",
              "      <th>Range</th>\n",
              "      <th>Attack/Sec</th>\n",
              "      <th>Power</th>\n",
              "      <th>Physical Protection</th>\n",
              "      <th>Magical Protection</th>\n",
              "      <th>HP5</th>\n",
              "      <th>MP5</th>\n",
              "    </tr>\n",
              "  </thead>\n",
              "  <tbody>\n",
              "    <tr>\n",
              "      <th>1</th>\n",
              "      <td>0.735668</td>\n",
              "      <td>-0.644707</td>\n",
              "      <td>0.046895</td>\n",
              "      <td>-0.196137</td>\n",
              "      <td>0.000165</td>\n",
              "      <td>0.018153</td>\n",
              "      <td>0.045477</td>\n",
              "      <td>0.0</td>\n",
              "      <td>0.006846</td>\n",
              "      <td>-0.005615</td>\n",
              "    </tr>\n",
              "    <tr>\n",
              "      <th>2</th>\n",
              "      <td>-0.641441</td>\n",
              "      <td>-0.761174</td>\n",
              "      <td>0.001634</td>\n",
              "      <td>0.092766</td>\n",
              "      <td>0.000185</td>\n",
              "      <td>-0.001091</td>\n",
              "      <td>-0.017811</td>\n",
              "      <td>0.0</td>\n",
              "      <td>0.002117</td>\n",
              "      <td>-0.015413</td>\n",
              "    </tr>\n",
              "  </tbody>\n",
              "</table>\n",
              "</div>"
            ],
            "text/plain": [
              "         HP      Mana     Speed  ...  Magical Protection       HP5       MP5\n",
              "1  0.735668 -0.644707  0.046895  ...                 0.0  0.006846 -0.005615\n",
              "2 -0.641441 -0.761174  0.001634  ...                 0.0  0.002117 -0.015413\n",
              "\n",
              "[2 rows x 10 columns]"
            ]
          },
          "metadata": {
            "tags": []
          },
          "execution_count": 56
        }
      ]
    },
    {
      "cell_type": "markdown",
      "metadata": {
        "id": "443FyhV7AEd5"
      },
      "source": [
        "En un análisis rápido se puede intuir que las características más importantes en un personaje son HP y Mana, seguido ligeramente por Range"
      ]
    },
    {
      "cell_type": "code",
      "metadata": {
        "colab": {
          "base_uri": "https://localhost:8080/",
          "height": 656
        },
        "id": "pAfe80g_4kYK",
        "outputId": "4e794201-5584-4ea2-b127-a68b438d185d"
      },
      "source": [
        "# Creamos un dataframe temporal sin la columna Magical Protection\r\n",
        "# Este valor al ser igual en todos los dioses, se asume que no aporta nada al análisis\r\n",
        "dumy_df = smite\r\n",
        "dumy_df = dumy_df.drop([\"Magical Protection\"], axis=1)\r\n",
        "\r\n",
        "# Generamos una matriz de correlación\r\n",
        "correlation_matrix = dumy_df.corr().round(2)\r\n",
        "mask = np.triu(np.ones_like(correlation_matrix, dtype=bool))\r\n",
        "cmap = sns.diverging_palette(230, 20, as_cmap=True)\r\n",
        "\r\n",
        "sns.heatmap(data=correlation_matrix, annot=True, mask=mask, cmap=cmap, vmax=0.3,\r\n",
        "            center=0,square=True, linewidths=0.5, cbar_kws={\"shrink\":0.5})\r\n",
        "plt.title('Matriz de correlación')"
      ],
      "execution_count": null,
      "outputs": [
        {
          "output_type": "execute_result",
          "data": {
            "text/plain": [
              "Text(0.5, 1.0, 'Matriz de correlación')"
            ]
          },
          "metadata": {
            "tags": []
          },
          "execution_count": 54
        },
        {
          "output_type": "display_data",
          "data": {
            "image/png": "[encoded data removed]",
            "text/plain": [
              "<Figure size 1152x648 with 2 Axes>"
            ]
          },
          "metadata": {
            "tags": []
          }
        }
      ]
    },
    {
      "cell_type": "markdown",
      "metadata": {
        "id": "N3Eqid_5Vzwz"
      },
      "source": [
        "Para el primer componente principal, el Ataque y el Ataque Especial es significativo, por lo tanto, este componente esta correlacionado con el Ataque y Ataque Especial, los pokemon con un valor alto en este componente tendrán un valor alto de estos atributos.\n",
        "\n",
        "El segundo componente principal muestra un aumento cuando el valor de la Defensa y un decremento en la Velocidad. Pokemon con un valor alto en el segundo componente tendrán un atributo de Defensa alto, pero un atributo de Velocidad bajo."
      ]
    },
    {
      "cell_type": "code",
      "metadata": {
        "id": "UP5yQjoIUcBJ"
      },
      "source": [
        "def get_important_features(transformed_features, components_, columns):\n",
        "  \"\"\"\n",
        "  Esta función regresará las características más importantes\n",
        "  para determinar cuáles tienen el mayor impacto en un arreglo\n",
        "  multidimensional\n",
        "  \"\"\"\n",
        "  num_columns = len(columns)\n",
        "\n",
        "  # Se escalan los componentes principales por el valor\n",
        "  # máximo en el set transformado perteneciente a ese componente\n",
        "  xvector = components_[0] * max(transformed_features[:,0])\n",
        "  yvector = components_[1] * max(transformed_features[:,1])\n",
        "\n",
        "  # Acomoda cada columna de acuerdo a su longitu. Estos son las\n",
        "  # columnas 'originales', no los componentes principales\n",
        "  important_features = { columns[i] : math.sqrt(xvector[i]**2 + yvector[i]**2) for i in range(num_columns) }\n",
        "  important_features = sorted(zip(important_features.values(), important_features.keys()),\n",
        "                              reverse=True)\n",
        "  print(\"Features by importance:\\n\", important_features)"
      ],
      "execution_count": null,
      "outputs": []
    },
    {
      "cell_type": "code",
      "metadata": {
        "id": "mLs3dlP3ZFP8",
        "colab": {
          "base_uri": "https://localhost:8080/"
        },
        "outputId": "17d85abd-a0f7-4d23-cf11-1e22dc59a642"
      },
      "source": [
        "get_important_features(T, pca.components_, df.columns.values)"
      ],
      "execution_count": null,
      "outputs": [
        {
          "output_type": "stream",
          "text": [
            "Features by importance:\n",
            " [(189.67702108017852, 'HP'), (187.10685611934485, 'Mana'), (44.48725120404203, 'Range'), (10.115648454025877, 'Physical Protection'), (9.971618566981675, 'Speed'), (3.8628489191428397, 'Power'), (2.8423897297129987, 'MP5'), (1.4975848110791692, 'HP5'), (0.046772274192878986, 'Attack/Sec'), (0.0, 'Magical Protection')]\n"
          ],
          "name": "stdout"
        }
      ]
    },
    {
      "cell_type": "markdown",
      "metadata": {
        "id": "zFG1quE6Zlir"
      },
      "source": [
        "Según nuestro análisis, el orden de importancia de las características es:\n",
        "\n",
        "\n",
        "1.   HP\n",
        "2.   Mana\n",
        "3.   Range\n",
        "4.   Physical Protection\n",
        "5.   Speed\n",
        "6.   Power\n",
        "7. MP5\n",
        "8. HP5\n",
        "9. Attack/sec\n",
        "10. Magical protection\n",
        "\n",
        "\n",
        "\n",
        "Ahora lo visualizaremos en una gráfica"
      ]
    },
    {
      "cell_type": "code",
      "metadata": {
        "id": "huMNTA8JaQXA"
      },
      "source": [
        "def draw_vectors(transformed_features, components_, columns):\n",
        "    \"\"\"\n",
        "    This funtion will project your *original* features\n",
        "    onto your principal component feature-space, so that you can\n",
        "    visualize how \"important\" each one was in the\n",
        "    multi-dimensional scaling\n",
        "    \"\"\"\n",
        "\n",
        "    num_columns = len(columns)\n",
        "\n",
        "    # Scale the principal components by the max value in\n",
        "    # the transformed set belonging to that component\n",
        "    xvector = components_[0] * max(transformed_features[:,0])\n",
        "    yvector = components_[1] * max(transformed_features[:,1])\n",
        "\n",
        "    ax = plt.axes()\n",
        "\n",
        "    for i in range(num_columns):\n",
        "    # Use an arrow to project each original feature as a\n",
        "    # labeled vector on your principal component axes\n",
        "        plt.arrow(0, 0, xvector[i], yvector[i], color='b', width=0.0005, head_width=0.02, alpha=0.75)\n",
        "        plt.text(xvector[i]*1.2, yvector[i]*1.2, list(columns)[i], color='b', alpha=0.75)\n",
        "\n",
        "    return ax"
      ],
      "execution_count": null,
      "outputs": []
    },
    {
      "cell_type": "code",
      "metadata": {
        "id": "tqoITmnNbxbD",
        "colab": {
          "base_uri": "https://localhost:8080/",
          "height": 558
        },
        "outputId": "bf9a8990-0c33-4746-c410-1d04af243918"
      },
      "source": [
        "ax = draw_vectors(T, pca.components_, df.columns.values)\n",
        "T_df = pd.DataFrame(T)\n",
        "T_df.columns = ['component1', 'component2']\n",
        "\n",
        "T_df['color'] = 'y'\n",
        "# Mejores dioses\n",
        "T_df.loc[T_df['component1'] > 90, 'color'] = 'g'\n",
        "T_df.loc[T_df['component2'] > 100 , 'color'] = 'r'\n",
        "\n",
        "# Peores dioses\n",
        "T_df.loc[T_df['component1'] < -120, 'color'] = 'c'\n",
        "T_df.loc[T_df['component2'] < -50, 'color'] = 'k'\n",
        "\n",
        "plt.xlabel('Principle Component 1')\n",
        "plt.ylabel('Principle Component 2')\n",
        "plt.ylim([-200,200])\n",
        "plt.scatter(T_df['component1'], T_df['component2'], color=T_df['color'], alpha=0.5)\n",
        "plt.show()"
      ],
      "execution_count": null,
      "outputs": [
        {
          "output_type": "display_data",
          "data": {
            "image/png": "[encoded data removed]",
            "text/plain": [
              "<Figure size 1152x648 with 1 Axes>"
            ]
          },
          "metadata": {
            "tags": []
          }
        }
      ]
    },
    {
      "cell_type": "code",
      "metadata": {
        "colab": {
          "base_uri": "https://localhost:8080/"
        },
        "id": "1amqXYfE3gQ0",
        "outputId": "c6dc4f54-8a35-436f-970a-6850a0e0d534"
      },
      "source": [
        "### Mejores dioses según el primer componente principal\r\n",
        "print(smite.loc[T_df[T_df['color'] == 'g'].index])"
      ],
      "execution_count": null,
      "outputs": [
        {
          "output_type": "stream",
          "text": [
            "      God     Class   HP  Mana  ...  Magical Protection  HP5  MP5  Power Type\n",
            "110  Ymir  Guardian  614   232  ...                  31  8.9  4.9     Magical\n",
            "\n",
            "[1 rows x 13 columns]\n"
          ],
          "name": "stdout"
        }
      ]
    },
    {
      "cell_type": "code",
      "metadata": {
        "id": "FCbxRt6fkZrj",
        "colab": {
          "base_uri": "https://localhost:8080/"
        },
        "outputId": "3b20096f-675c-47f3-8407-50550074b89c"
      },
      "source": [
        "### Mejores dioses según el segundo componente principal\n",
        "print(smite.loc[T_df[T_df['color'] == 'r'].index])"
      ],
      "execution_count": null,
      "outputs": [
        {
          "output_type": "stream",
          "text": [
            "            God     Class   HP  Mana  ...  Magical Protection   HP5  MP5  Power Type\n",
            "33   Cu Culainn   Warrior  565   100  ...                  31  7.75  0.0    Physical\n",
            "109      Yemoja  Guardian  585     0  ...                  31  6.70  0.0     Magical\n",
            "\n",
            "[2 rows x 13 columns]\n"
          ],
          "name": "stdout"
        }
      ]
    },
    {
      "cell_type": "code",
      "metadata": {
        "colab": {
          "base_uri": "https://localhost:8080/"
        },
        "id": "H3kq4k2HE5Lh",
        "outputId": "45e288ff-b4ab-40e9-c79b-de741017e425"
      },
      "source": [
        "### Peores dioses según el primer componente principal\r\n",
        "print(smite.loc[T_df[T_df['color'] == 'c'].index])"
      ],
      "execution_count": null,
      "outputs": [
        {
          "output_type": "stream",
          "text": [
            "       God Class   HP  Mana  ...  Magical Protection   HP5  MP5  Power Type\n",
            "88  Scylla  Mage  440   354  ...                  31  6.45  5.3     Magical\n",
            "\n",
            "[1 rows x 13 columns]\n"
          ],
          "name": "stdout"
        }
      ]
    },
    {
      "cell_type": "code",
      "metadata": {
        "colab": {
          "base_uri": "https://localhost:8080/"
        },
        "id": "c-Fb5pNAE5Eu",
        "outputId": "a99dabac-28fc-44b0-a36c-25cde5bded01"
      },
      "source": [
        "### Peores dioses seún el segundo componente principal\r\n",
        "print(smite.loc[T_df[T_df['color'] == 'k'].index])"
      ],
      "execution_count": null,
      "outputs": [
        {
          "output_type": "stream",
          "text": [
            "      God Class   HP  Mana  ...  Magical Protection   HP5   MP5  Power Type\n",
            "46  Hades  Mage  560   318  ...                  31  5.54  5.36     Magical\n",
            "57  Janus  Mage  470   408  ...                  31  6.45  5.45     Magical\n",
            "\n",
            "[2 rows x 13 columns]\n"
          ],
          "name": "stdout"
        }
      ]
    },
    {
      "cell_type": "code",
      "metadata": {
        "id": "9p8itxk7k30c",
        "colab": {
          "base_uri": "https://localhost:8080/"
        },
        "outputId": "4ecad539-7847-4ced-cab8-41d2de2ef3cb"
      },
      "source": [
        "smite.iloc[33]"
      ],
      "execution_count": null,
      "outputs": [
        {
          "output_type": "execute_result",
          "data": {
            "text/plain": [
              "God                    Cu Culainn\n",
              "Class                     Warrior\n",
              "HP                            565\n",
              "Mana                          100\n",
              "Speed                         370\n",
              "Range                          16\n",
              "Attack/Sec                   1.01\n",
              "Power                          41\n",
              "Physical Protection            20\n",
              "Magical Protection             31\n",
              "HP5                          7.75\n",
              "MP5                             0\n",
              "Power Type               Physical\n",
              "Name: 33, dtype: object"
            ]
          },
          "metadata": {
            "tags": []
          },
          "execution_count": 36
        }
      ]
    },
    {
      "cell_type": "code",
      "metadata": {
        "colab": {
          "base_uri": "https://localhost:8080/"
        },
        "id": "5xAFHGzcCal9",
        "outputId": "e3f144e4-810e-4882-e43b-d73612906d28"
      },
      "source": [
        "smite.iloc[109]"
      ],
      "execution_count": null,
      "outputs": [
        {
          "output_type": "execute_result",
          "data": {
            "text/plain": [
              "God                      Yemoja\n",
              "Class                  Guardian\n",
              "HP                          585\n",
              "Mana                          0\n",
              "Speed                       365\n",
              "Range                        55\n",
              "Attack/Sec                 1.01\n",
              "Power                        36\n",
              "Physical Protection          22\n",
              "Magical Protection           31\n",
              "HP5                         6.7\n",
              "MP5                           0\n",
              "Power Type              Magical\n",
              "Name: 109, dtype: object"
            ]
          },
          "metadata": {
            "tags": []
          },
          "execution_count": 60
        }
      ]
    },
    {
      "cell_type": "code",
      "metadata": {
        "colab": {
          "base_uri": "https://localhost:8080/"
        },
        "id": "j8h6djGw2PGo",
        "outputId": "9c4174ca-a7e3-4bcd-d2ea-b5dcc1aa283c"
      },
      "source": [
        "smite.iloc[110]"
      ],
      "execution_count": null,
      "outputs": [
        {
          "output_type": "execute_result",
          "data": {
            "text/plain": [
              "God                        Ymir\n",
              "Class                  Guardian\n",
              "HP                          614\n",
              "Mana                        232\n",
              "Speed                       370\n",
              "Range                        12\n",
              "Attack/Sec                 0.86\n",
              "Power                        40\n",
              "Physical Protection          26\n",
              "Magical Protection           31\n",
              "HP5                         8.9\n",
              "MP5                         4.9\n",
              "Power Type              Magical\n",
              "Name: 110, dtype: object"
            ]
          },
          "metadata": {
            "tags": []
          },
          "execution_count": 61
        }
      ]
    },
    {
      "cell_type": "code",
      "metadata": {
        "colab": {
          "base_uri": "https://localhost:8080/"
        },
        "id": "wzAxs1orFZof",
        "outputId": "a2a0b90d-b158-4e44-fc8b-51dfd7d4a58f"
      },
      "source": [
        "smite.iloc[88]"
      ],
      "execution_count": null,
      "outputs": [
        {
          "output_type": "execute_result",
          "data": {
            "text/plain": [
              "God                     Scylla\n",
              "Class                     Mage\n",
              "HP                         440\n",
              "Mana                       354\n",
              "Speed                      355\n",
              "Range                       55\n",
              "Attack/Sec                1.01\n",
              "Power                       35\n",
              "Physical Protection         12\n",
              "Magical Protection          31\n",
              "HP5                       6.45\n",
              "MP5                        5.3\n",
              "Power Type             Magical\n",
              "Name: 88, dtype: object"
            ]
          },
          "metadata": {
            "tags": []
          },
          "execution_count": 77
        }
      ]
    },
    {
      "cell_type": "code",
      "metadata": {
        "colab": {
          "base_uri": "https://localhost:8080/"
        },
        "id": "w353UTycFZhl",
        "outputId": "5af67d51-9832-4e3b-ed2f-86571836c114"
      },
      "source": [
        "smite.iloc[46]"
      ],
      "execution_count": null,
      "outputs": [
        {
          "output_type": "execute_result",
          "data": {
            "text/plain": [
              "God                      Hades\n",
              "Class                     Mage\n",
              "HP                         560\n",
              "Mana                       318\n",
              "Speed                      365\n",
              "Range                       55\n",
              "Attack/Sec                0.96\n",
              "Power                       34\n",
              "Physical Protection         21\n",
              "Magical Protection          31\n",
              "HP5                       5.54\n",
              "MP5                       5.36\n",
              "Power Type             Magical\n",
              "Name: 46, dtype: object"
            ]
          },
          "metadata": {
            "tags": []
          },
          "execution_count": 78
        }
      ]
    },
    {
      "cell_type": "code",
      "metadata": {
        "colab": {
          "base_uri": "https://localhost:8080/"
        },
        "id": "QdDcSKTwFZY9",
        "outputId": "5d8c8367-6b2f-4616-8c2c-0be232dd2ec7"
      },
      "source": [
        "smite.iloc[57]"
      ],
      "execution_count": null,
      "outputs": [
        {
          "output_type": "execute_result",
          "data": {
            "text/plain": [
              "God                      Janus\n",
              "Class                     Mage\n",
              "HP                         470\n",
              "Mana                       408\n",
              "Speed                      360\n",
              "Range                       55\n",
              "Attack/Sec                1.01\n",
              "Power                       35\n",
              "Physical Protection         11\n",
              "Magical Protection          31\n",
              "HP5                       6.45\n",
              "MP5                       5.45\n",
              "Power Type             Magical\n",
              "Name: 57, dtype: object"
            ]
          },
          "metadata": {
            "tags": []
          },
          "execution_count": 79
        }
      ]
    }
  ]
}
